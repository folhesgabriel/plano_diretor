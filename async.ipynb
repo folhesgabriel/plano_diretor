{
 "cells": [
  {
   "cell_type": "code",
   "execution_count": 1,
   "metadata": {},
   "outputs": [],
   "source": [
    "from httpx import AsyncClient\n",
    "import asyncio\n",
    "import bs4\n",
    "import asyncio\n",
    "import httpx\n",
    "import bs4\n",
    "import pandas as pd\n",
    "import aiohttp\n",
    "import geopandas\n",
    "##"
   ]
  },
  {
   "cell_type": "code",
   "execution_count": 2,
   "metadata": {},
   "outputs": [],
   "source": [
    "#gen empresas\n",
    "df_bruto = pd.read_csv(\"/home/gabri/plano_diretor_poc/empresas_natjur_cnae.csv\")\n",
    "\n",
    "#create new column concatenating tipo_logradouro, logradouro, numero, bairro, 'BELÉM - PA'\n",
    "#! Modificar se necessário\n",
    "df_bruto['endereco_url'] = 'https://www.google.com/maps/search/'+ df_bruto['razao_social'] +'+' + df_bruto['tipo_logradouro'] +'+' +  df_bruto['logradouro'] +'+' +  df_bruto['numero'] +'+' +  df_bruto['bairro'] +'+' +  'BELÉM+PA'\n",
    "\n",
    "#remove nan endereco_url from df\n",
    "df = df_bruto.dropna(subset=['endereco_url'])\n",
    "cnpj_endereco_url = dict((zip(df['cnpj'], df['endereco_url'])))"
   ]
  },
  {
   "cell_type": "code",
   "execution_count": 3,
   "metadata": {},
   "outputs": [],
   "source": [
    "#podemos fazer a instalação da aiohttp para fazer requisições HTTP assíncronas com pip install aiohttp.\n",
    "#crawler \n",
    "async def fetch_page(session, cnpj, url):\n",
    "    async with session.get(url) as response:\n",
    "        if response.status != 200:\n",
    "            return cnpj, None  # Retorna None se a resposta não for bem-sucedida\n",
    "        html = await response.text()\n",
    "        soup = bs4.BeautifulSoup(html, 'html.parser')\n",
    "        try:\n",
    "            lat_long = soup.find('meta', {'itemprop': 'image'}).get('content').split('center=')[1].split('&')[0].split('%2C')\n",
    "        except Exception as e:\n",
    "            lat_long = None\n",
    "        return cnpj, lat_long\n",
    "\n",
    "\n",
    "async def fetch_all_pages():\n",
    "    async with aiohttp.ClientSession() as session:\n",
    "        tasks = []\n",
    "        for cnpj, url in cnpj_endereco_url.items():\n",
    "            tasks.append(fetch_page(session, cnpj, url))\n",
    "        results = await asyncio.gather(*tasks, return_exceptions=True)  # Lidando com exceções\n",
    "        # Construir um dicionário com os resultados\n",
    "        result_dict = {cnpj: info for cnpj, info in results if info is not None}\n",
    "        return result_dict\n",
    "    \n",
    "async def main():\n",
    "    pages = await fetch_all_pages()\n",
    "    \n",
    "    return pages\n",
    "\n",
    "\n",
    "results = await main()"
   ]
  },
  {
   "cell_type": "code",
   "execution_count": 4,
   "metadata": {},
   "outputs": [],
   "source": [
    "#-- converter para df\n",
    "df = pd.DataFrame.from_dict(results, orient='index', columns=['lat', 'long']).reset_index()\n",
    "df.columns = ['cnpj', 'lat', 'long']"
   ]
  },
  {
   "cell_type": "code",
   "execution_count": 5,
   "metadata": {},
   "outputs": [
    {
     "name": "stderr",
     "output_type": "stream",
     "text": [
      "/tmp/ipykernel_2673/2008209351.py:10: UserWarning: Column names longer than 10 characters will be truncated when saved to ESRI Shapefile.\n",
      "  gdf.to_file(\"/home/gabri/plano_diretor_poc/edificios_belem_08_02_2024.shp\")\n"
     ]
    }
   ],
   "source": [
    "#-- left join df_bruto on df\n",
    "df = df.merge(df_bruto, on='cnpj', how='left')\n",
    "\n",
    "#-- converter para pd.DataFrame com uma coluna WKT (well known text) para plotar no QGIS\n",
    "gdf = geopandas.GeoDataFrame(\n",
    "    df, geometry=geopandas.points_from_xy(df.long, df.lat), crs=\"EPSG:4326\"\n",
    ")\n",
    "#\n",
    "#save gdf to .shp\n",
    "gdf.to_file(\"/home/gabri/plano_diretor_poc/edificios_belem_08_02_2024.shp\")\n",
    "#save to csv\n",
    "gdf.to_csv(\"/home/gabri/plano_diretor_poc/edificios_belem_08_02_2024.csv\")\n"
   ]
  }
 ],
 "metadata": {
  "kernelspec": {
   "display_name": "bd_pipelines",
   "language": "python",
   "name": "python3"
  },
  "language_info": {
   "codemirror_mode": {
    "name": "ipython",
    "version": 3
   },
   "file_extension": ".py",
   "mimetype": "text/x-python",
   "name": "python",
   "nbconvert_exporter": "python",
   "pygments_lexer": "ipython3",
   "version": "3.9.15"
  },
  "orig_nbformat": 4
 },
 "nbformat": 4,
 "nbformat_minor": 2
}
